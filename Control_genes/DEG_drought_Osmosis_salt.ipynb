{
 "cells": [
  {
   "cell_type": "code",
   "execution_count": 1,
   "metadata": {},
   "outputs": [
    {
     "name": "stderr",
     "output_type": "stream",
     "text": [
      "Loading required package: Biobase\n",
      "\n",
      "Loading required package: BiocGenerics\n",
      "\n",
      "Loading required package: parallel\n",
      "\n",
      "\n",
      "Attaching package: ‘BiocGenerics’\n",
      "\n",
      "\n",
      "The following objects are masked from ‘package:parallel’:\n",
      "\n",
      "    clusterApply, clusterApplyLB, clusterCall, clusterEvalQ,\n",
      "    clusterExport, clusterMap, parApply, parCapply, parLapply,\n",
      "    parLapplyLB, parRapply, parSapply, parSapplyLB\n",
      "\n",
      "\n",
      "The following objects are masked from ‘package:stats’:\n",
      "\n",
      "    IQR, mad, sd, var, xtabs\n",
      "\n",
      "\n",
      "The following objects are masked from ‘package:base’:\n",
      "\n",
      "    anyDuplicated, append, as.data.frame, basename, cbind, colnames,\n",
      "    dirname, do.call, duplicated, eval, evalq, Filter, Find, get, grep,\n",
      "    grepl, intersect, is.unsorted, lapply, Map, mapply, match, mget,\n",
      "    order, paste, pmax, pmax.int, pmin, pmin.int, Position, rank,\n",
      "    rbind, Reduce, rownames, sapply, setdiff, sort, table, tapply,\n",
      "    union, unique, unsplit, which, which.max, which.min\n",
      "\n",
      "\n",
      "Welcome to Bioconductor\n",
      "\n",
      "    Vignettes contain introductory material; view with\n",
      "    'browseVignettes()'. To cite Bioconductor, see\n",
      "    'citation(\"Biobase\")', and for packages 'citation(\"pkgname\")'.\n",
      "\n",
      "\n",
      "Setting options('download.file.method.GEOquery'='auto')\n",
      "\n",
      "Setting options('GEOquery.inmemory.gpl'=FALSE)\n",
      "\n",
      "\n",
      "Attaching package: ‘limma’\n",
      "\n",
      "\n",
      "The following object is masked from ‘package:BiocGenerics’:\n",
      "\n",
      "    plotMA\n",
      "\n",
      "\n",
      "Registered S3 method overwritten by 'rvest':\n",
      "  method            from\n",
      "  read_xml.response xml2\n",
      "\n",
      "── \u001b[1mAttaching packages\u001b[22m ─────────────────────────────────────────────────────────────────────────────── tidyverse 1.2.1 ──\n",
      "\n",
      "\u001b[32m✔\u001b[39m \u001b[34mggplot2\u001b[39m 3.2.1       \u001b[32m✔\u001b[39m \u001b[34mpurrr  \u001b[39m 0.3.4  \n",
      "\u001b[32m✔\u001b[39m \u001b[34mtidyr  \u001b[39m 0.8.3       \u001b[32m✔\u001b[39m \u001b[34mdplyr  \u001b[39m 0.8.0.\u001b[31m1\u001b[39m\n",
      "\u001b[32m✔\u001b[39m \u001b[34mreadr  \u001b[39m 1.3.1       \u001b[32m✔\u001b[39m \u001b[34mstringr\u001b[39m 1.4.0  \n",
      "\u001b[32m✔\u001b[39m \u001b[34mggplot2\u001b[39m 3.2.1       \u001b[32m✔\u001b[39m \u001b[34mforcats\u001b[39m 0.4.0  \n",
      "\n",
      "── \u001b[1mConflicts\u001b[22m ────────────────────────────────────────────────────────────────────────────────── tidyverse_conflicts() ──\n",
      "\u001b[31m✖\u001b[39m \u001b[34mdplyr\u001b[39m::\u001b[32mcombine()\u001b[39m    masks \u001b[34mBiobase\u001b[39m::combine(), \u001b[34mBiocGenerics\u001b[39m::combine()\n",
      "\u001b[31m✖\u001b[39m \u001b[34mdplyr\u001b[39m::\u001b[32mfilter()\u001b[39m     masks \u001b[34mstats\u001b[39m::filter()\n",
      "\u001b[31m✖\u001b[39m \u001b[34mdplyr\u001b[39m::\u001b[32mlag()\u001b[39m        masks \u001b[34mstats\u001b[39m::lag()\n",
      "\u001b[31m✖\u001b[39m \u001b[34mggplot2\u001b[39m::\u001b[32mPosition()\u001b[39m masks \u001b[34mBiocGenerics\u001b[39m::Position(), \u001b[34mbase\u001b[39m::Position()\n",
      "\n",
      "\n",
      "Attaching package: ‘reshape2’\n",
      "\n",
      "\n",
      "The following object is masked from ‘package:tidyr’:\n",
      "\n",
      "    smiths\n",
      "\n",
      "\n",
      "Loading required package: AnnotationDbi\n",
      "\n",
      "Loading required package: stats4\n",
      "\n",
      "Loading required package: IRanges\n",
      "\n",
      "Loading required package: S4Vectors\n",
      "\n",
      "\n",
      "Attaching package: ‘S4Vectors’\n",
      "\n",
      "\n",
      "The following objects are masked from ‘package:dplyr’:\n",
      "\n",
      "    first, rename\n",
      "\n",
      "\n",
      "The following object is masked from ‘package:tidyr’:\n",
      "\n",
      "    expand\n",
      "\n",
      "\n",
      "The following object is masked from ‘package:rlist’:\n",
      "\n",
      "    List\n",
      "\n",
      "\n",
      "The following object is masked from ‘package:base’:\n",
      "\n",
      "    expand.grid\n",
      "\n",
      "\n",
      "\n",
      "Attaching package: ‘IRanges’\n",
      "\n",
      "\n",
      "The following objects are masked from ‘package:dplyr’:\n",
      "\n",
      "    collapse, desc, slice\n",
      "\n",
      "\n",
      "The following object is masked from ‘package:purrr’:\n",
      "\n",
      "    reduce\n",
      "\n",
      "\n",
      "\n",
      "Attaching package: ‘AnnotationDbi’\n",
      "\n",
      "\n",
      "The following object is masked from ‘package:dplyr’:\n",
      "\n",
      "    select\n",
      "\n",
      "\n",
      "Loading required package: org.At.tair.db\n",
      "\n",
      "\n",
      "\n",
      "\n",
      "\n"
     ]
    }
   ],
   "source": [
    "library(GEOquery)\n",
    "library(limma)\n",
    "library(tibble)\n",
    "library(Biobase)\n",
    "library(rlist)\n",
    "library(tidyverse)\n",
    "library(reshape2)\n",
    "library(ath1121501.db)# Affymetrix Arabidopsis ATH1 Genome Array annotation data"
   ]
  },
  {
   "cell_type": "code",
   "execution_count": 2,
   "metadata": {},
   "outputs": [],
   "source": [
    "logChange <- function (expression){\n",
    "    ex <- expression\n",
    "    qx <- as.numeric(quantile(ex, c(0., 0.25, 0.5, 0.75, 0.99, 1.0), na.rm=T))\n",
    "    LogC <- (qx[5] > 100) ||\n",
    "      (qx[6]-qx[1] > 50 && qx[2] > 0) ||\n",
    "      (qx[2] > 0 && qx[2] < 1 && qx[4] > 1 && qx[4] < 2)\n",
    "\n",
    "    if (LogC) { ex[which(ex <= 0)] <- NaN\n",
    "    print(\"log2 transform finished\")}else{print(\"log2 transform not needed\")}\n",
    "    return(log2(ex))\n",
    "}\n",
    "\n",
    "getgeo <- function(aFile){\n",
    "    ###get the data\n",
    "    gset <- getGEO(aFile, GSEMatrix =TRUE, AnnotGPL=F )\n",
    "    #get the expression set which is a list\n",
    "    expressionSet <- gset[[1]]\n",
    "    exprSet <- exprs(expressionSet)\n",
    "    #data description\n",
    "    pData <- pData(expressionSet)\n",
    "    colnames(exprSet) <- sapply(pData$title,function (x) substr(x,14,100))\n",
    "    exprSet <- logChange(exprSet)\n",
    "    return(as.data.frame(exprSet))\n",
    "}\n",
    "\n",
    "anno_rmDup <- function (express){\n",
    "    express$ID <- rownames(express)\n",
    "    anno_exprSet <- merge(x=geneAnno,y=express,by='ID') # expreSet must be a dataframe for merge, need to convert to a dataframe from original exprSet\n",
    "    anno_exprSet$ID <- NULL\n",
    "    anno_exprSet <- anno_exprSet %>% \n",
    "                    mutate(rowMean =rowMeans(.[-1]))%>%  # . means data from last step\n",
    "                    arrange(desc(rowMean)) %>% \n",
    "                    distinct(AGI, .keep_all = T) %>% \n",
    "                    dplyr::select(-rowMean)%>% # use dplyr::select to avoid conflict with R built-in function select\n",
    "                    column_to_rownames(var = \"AGI\")\n",
    "    return(anno_exprSet)\n",
    "}\n",
    "\n",
    "deg <- function(sample){ #express dataset: index are gene names; total four columns, first two columns are control, last two columns are treatment\n",
    "    group <- c(rep('control',2), rep('treatment',2))\n",
    "    # set the group mandatorily, or the comparison refrence will be assigned based on alphabet\n",
    "#     group <- relevel(group, ref=\"control\") \n",
    "    \n",
    "    #make the design matrix and comparision\n",
    "    design <- model.matrix(~0+factor(group))\n",
    "    colnames(design) <- levels(factor(group))\n",
    "    rownames(design) <- colnames(sample)\n",
    "    contrast.matrix <- makeContrasts(contrasts = \"treatment - control\", levels = design)\n",
    "    # paste0(unique(group),collapse = \"-\")\n",
    "    \n",
    "    # fit the model in limma\n",
    "    fit <- lmFit(sample, design)\n",
    "    fit1 <- contrasts.fit(fit, contrast.matrix)\n",
    "    fit2 <- eBayes(fit1)\n",
    "    \n",
    "    dif <- topTable(fit2, coef=1, number=Inf)\n",
    "    #filter the day by p.value <= 0.05\n",
    "    dif <- dif[(dif$logFC >1)|(dif$logFC <-1)&(dif$P.Value <=0.05),]\n",
    "    return(dif)\n",
    "}"
   ]
  },
  {
   "cell_type": "code",
   "execution_count": 3,
   "metadata": {},
   "outputs": [
    {
     "name": "stderr",
     "output_type": "stream",
     "text": [
      "File stored at: \n",
      "\n",
      "/tmp/RtmpJpJjqV/GPL198.soft\n",
      "\n",
      "Warning message:\n",
      "“64 parsing failures.\n",
      "  row     col           expected    actual         file\n",
      "22747 SPOT_ID 1/0/T/F/TRUE/FALSE --Control literal data\n",
      "22748 SPOT_ID 1/0/T/F/TRUE/FALSE --Control literal data\n",
      "22749 SPOT_ID 1/0/T/F/TRUE/FALSE --Control literal data\n",
      "22750 SPOT_ID 1/0/T/F/TRUE/FALSE --Control literal data\n",
      "22751 SPOT_ID 1/0/T/F/TRUE/FALSE --Control literal data\n",
      "..... ....... .................. ......... ............\n",
      "See problems(...) for more details.\n",
      "”\n",
      "Found 1 file(s)\n",
      "\n",
      "GSE5620_series_matrix.txt.gz\n",
      "\n",
      "Parsed with column specification:\n",
      "cols(\n",
      "  .default = col_double(),\n",
      "  ID_REF = \u001b[31mcol_character()\u001b[39m\n",
      ")\n",
      "\n",
      "See spec(...) for full column specifications.\n",
      "\n",
      "Using locally cached version of GPL198 found here:\n",
      "/tmp/RtmpJpJjqV/GPL198.soft \n",
      "\n",
      "Warning message:\n",
      "“64 parsing failures.\n",
      "  row     col           expected    actual         file\n",
      "22747 SPOT_ID 1/0/T/F/TRUE/FALSE --Control literal data\n",
      "22748 SPOT_ID 1/0/T/F/TRUE/FALSE --Control literal data\n",
      "22749 SPOT_ID 1/0/T/F/TRUE/FALSE --Control literal data\n",
      "22750 SPOT_ID 1/0/T/F/TRUE/FALSE --Control literal data\n",
      "22751 SPOT_ID 1/0/T/F/TRUE/FALSE --Control literal data\n",
      "..... ....... .................. ......... ............\n",
      "See problems(...) for more details.\n",
      "”\n"
     ]
    },
    {
     "name": "stdout",
     "output_type": "stream",
     "text": [
      "[1] \"log2 transform finished\"\n"
     ]
    },
    {
     "name": "stderr",
     "output_type": "stream",
     "text": [
      "Found 1 file(s)\n",
      "\n",
      "GSE5621_series_matrix.txt.gz\n",
      "\n",
      "Parsed with column specification:\n",
      "cols(\n",
      "  .default = col_double(),\n",
      "  ID_REF = \u001b[31mcol_character()\u001b[39m\n",
      ")\n",
      "\n",
      "See spec(...) for full column specifications.\n",
      "\n",
      "Using locally cached version of GPL198 found here:\n",
      "/tmp/RtmpJpJjqV/GPL198.soft \n",
      "\n",
      "Warning message:\n",
      "“64 parsing failures.\n",
      "  row     col           expected    actual         file\n",
      "22747 SPOT_ID 1/0/T/F/TRUE/FALSE --Control literal data\n",
      "22748 SPOT_ID 1/0/T/F/TRUE/FALSE --Control literal data\n",
      "22749 SPOT_ID 1/0/T/F/TRUE/FALSE --Control literal data\n",
      "22750 SPOT_ID 1/0/T/F/TRUE/FALSE --Control literal data\n",
      "22751 SPOT_ID 1/0/T/F/TRUE/FALSE --Control literal data\n",
      "..... ....... .................. ......... ............\n",
      "See problems(...) for more details.\n",
      "”\n"
     ]
    },
    {
     "name": "stdout",
     "output_type": "stream",
     "text": [
      "[1] \"log2 transform finished\"\n"
     ]
    },
    {
     "name": "stderr",
     "output_type": "stream",
     "text": [
      "Found 1 file(s)\n",
      "\n",
      "GSE5622_series_matrix.txt.gz\n",
      "\n",
      "Parsed with column specification:\n",
      "cols(\n",
      "  .default = col_double(),\n",
      "  ID_REF = \u001b[31mcol_character()\u001b[39m\n",
      ")\n",
      "\n",
      "See spec(...) for full column specifications.\n",
      "\n",
      "Using locally cached version of GPL198 found here:\n",
      "/tmp/RtmpJpJjqV/GPL198.soft \n",
      "\n",
      "Warning message:\n",
      "“64 parsing failures.\n",
      "  row     col           expected    actual         file\n",
      "22747 SPOT_ID 1/0/T/F/TRUE/FALSE --Control literal data\n",
      "22748 SPOT_ID 1/0/T/F/TRUE/FALSE --Control literal data\n",
      "22749 SPOT_ID 1/0/T/F/TRUE/FALSE --Control literal data\n",
      "22750 SPOT_ID 1/0/T/F/TRUE/FALSE --Control literal data\n",
      "22751 SPOT_ID 1/0/T/F/TRUE/FALSE --Control literal data\n",
      "..... ....... .................. ......... ............\n",
      "See problems(...) for more details.\n",
      "”\n"
     ]
    },
    {
     "name": "stdout",
     "output_type": "stream",
     "text": [
      "[1] \"log2 transform finished\"\n"
     ]
    },
    {
     "name": "stderr",
     "output_type": "stream",
     "text": [
      "Found 1 file(s)\n",
      "\n",
      "GSE5623_series_matrix.txt.gz\n",
      "\n",
      "Parsed with column specification:\n",
      "cols(\n",
      "  .default = col_double(),\n",
      "  ID_REF = \u001b[31mcol_character()\u001b[39m\n",
      ")\n",
      "\n",
      "See spec(...) for full column specifications.\n",
      "\n",
      "Using locally cached version of GPL198 found here:\n",
      "/tmp/RtmpJpJjqV/GPL198.soft \n",
      "\n",
      "Warning message:\n",
      "“64 parsing failures.\n",
      "  row     col           expected    actual         file\n",
      "22747 SPOT_ID 1/0/T/F/TRUE/FALSE --Control literal data\n",
      "22748 SPOT_ID 1/0/T/F/TRUE/FALSE --Control literal data\n",
      "22749 SPOT_ID 1/0/T/F/TRUE/FALSE --Control literal data\n",
      "22750 SPOT_ID 1/0/T/F/TRUE/FALSE --Control literal data\n",
      "22751 SPOT_ID 1/0/T/F/TRUE/FALSE --Control literal data\n",
      "..... ....... .................. ......... ............\n",
      "See problems(...) for more details.\n",
      "”\n"
     ]
    },
    {
     "name": "stdout",
     "output_type": "stream",
     "text": [
      "[1] \"log2 transform finished\"\n"
     ]
    },
    {
     "name": "stderr",
     "output_type": "stream",
     "text": [
      "Found 1 file(s)\n",
      "\n",
      "GSE5624_series_matrix.txt.gz\n",
      "\n",
      "Parsed with column specification:\n",
      "cols(\n",
      "  .default = col_double(),\n",
      "  ID_REF = \u001b[31mcol_character()\u001b[39m\n",
      ")\n",
      "\n",
      "See spec(...) for full column specifications.\n",
      "\n",
      "Using locally cached version of GPL198 found here:\n",
      "/tmp/RtmpJpJjqV/GPL198.soft \n",
      "\n",
      "Warning message:\n",
      "“64 parsing failures.\n",
      "  row     col           expected    actual         file\n",
      "22747 SPOT_ID 1/0/T/F/TRUE/FALSE --Control literal data\n",
      "22748 SPOT_ID 1/0/T/F/TRUE/FALSE --Control literal data\n",
      "22749 SPOT_ID 1/0/T/F/TRUE/FALSE --Control literal data\n",
      "22750 SPOT_ID 1/0/T/F/TRUE/FALSE --Control literal data\n",
      "22751 SPOT_ID 1/0/T/F/TRUE/FALSE --Control literal data\n",
      "..... ....... .................. ......... ............\n",
      "See problems(...) for more details.\n",
      "”\n"
     ]
    },
    {
     "name": "stdout",
     "output_type": "stream",
     "text": [
      "[1] \"log2 transform finished\"\n"
     ]
    },
    {
     "name": "stderr",
     "output_type": "stream",
     "text": [
      "Found 1 file(s)\n",
      "\n",
      "GSE5625_series_matrix.txt.gz\n",
      "\n",
      "Parsed with column specification:\n",
      "cols(\n",
      "  .default = col_double(),\n",
      "  ID_REF = \u001b[31mcol_character()\u001b[39m\n",
      ")\n",
      "\n",
      "See spec(...) for full column specifications.\n",
      "\n",
      "Using locally cached version of GPL198 found here:\n",
      "/tmp/RtmpJpJjqV/GPL198.soft \n",
      "\n",
      "Warning message:\n",
      "“64 parsing failures.\n",
      "  row     col           expected    actual         file\n",
      "22747 SPOT_ID 1/0/T/F/TRUE/FALSE --Control literal data\n",
      "22748 SPOT_ID 1/0/T/F/TRUE/FALSE --Control literal data\n",
      "22749 SPOT_ID 1/0/T/F/TRUE/FALSE --Control literal data\n",
      "22750 SPOT_ID 1/0/T/F/TRUE/FALSE --Control literal data\n",
      "22751 SPOT_ID 1/0/T/F/TRUE/FALSE --Control literal data\n",
      "..... ....... .................. ......... ............\n",
      "See problems(...) for more details.\n",
      "”\n"
     ]
    },
    {
     "name": "stdout",
     "output_type": "stream",
     "text": [
      "[1] \"log2 transform finished\"\n"
     ]
    },
    {
     "name": "stderr",
     "output_type": "stream",
     "text": [
      "Found 1 file(s)\n",
      "\n",
      "GSE5626_series_matrix.txt.gz\n",
      "\n",
      "Parsed with column specification:\n",
      "cols(\n",
      "  .default = col_double(),\n",
      "  ID_REF = \u001b[31mcol_character()\u001b[39m\n",
      ")\n",
      "\n",
      "See spec(...) for full column specifications.\n",
      "\n",
      "Using locally cached version of GPL198 found here:\n",
      "/tmp/RtmpJpJjqV/GPL198.soft \n",
      "\n",
      "Warning message:\n",
      "“64 parsing failures.\n",
      "  row     col           expected    actual         file\n",
      "22747 SPOT_ID 1/0/T/F/TRUE/FALSE --Control literal data\n",
      "22748 SPOT_ID 1/0/T/F/TRUE/FALSE --Control literal data\n",
      "22749 SPOT_ID 1/0/T/F/TRUE/FALSE --Control literal data\n",
      "22750 SPOT_ID 1/0/T/F/TRUE/FALSE --Control literal data\n",
      "22751 SPOT_ID 1/0/T/F/TRUE/FALSE --Control literal data\n",
      "..... ....... .................. ......... ............\n",
      "See problems(...) for more details.\n",
      "”\n"
     ]
    },
    {
     "name": "stdout",
     "output_type": "stream",
     "text": [
      "[1] \"log2 transform finished\"\n"
     ]
    },
    {
     "name": "stderr",
     "output_type": "stream",
     "text": [
      "Found 1 file(s)\n",
      "\n",
      "GSE5627_series_matrix.txt.gz\n",
      "\n",
      "Parsed with column specification:\n",
      "cols(\n",
      "  .default = col_double(),\n",
      "  ID_REF = \u001b[31mcol_character()\u001b[39m\n",
      ")\n",
      "\n",
      "See spec(...) for full column specifications.\n",
      "\n",
      "Using locally cached version of GPL198 found here:\n",
      "/tmp/RtmpJpJjqV/GPL198.soft \n",
      "\n",
      "Warning message:\n",
      "“64 parsing failures.\n",
      "  row     col           expected    actual         file\n",
      "22747 SPOT_ID 1/0/T/F/TRUE/FALSE --Control literal data\n",
      "22748 SPOT_ID 1/0/T/F/TRUE/FALSE --Control literal data\n",
      "22749 SPOT_ID 1/0/T/F/TRUE/FALSE --Control literal data\n",
      "22750 SPOT_ID 1/0/T/F/TRUE/FALSE --Control literal data\n",
      "22751 SPOT_ID 1/0/T/F/TRUE/FALSE --Control literal data\n",
      "..... ....... .................. ......... ............\n",
      "See problems(...) for more details.\n",
      "”\n"
     ]
    },
    {
     "name": "stdout",
     "output_type": "stream",
     "text": [
      "[1] \"log2 transform finished\"\n"
     ]
    },
    {
     "name": "stderr",
     "output_type": "stream",
     "text": [
      "Found 1 file(s)\n",
      "\n",
      "GSE5628_series_matrix.txt.gz\n",
      "\n",
      "Parsed with column specification:\n",
      "cols(\n",
      "  .default = col_double(),\n",
      "  ID_REF = \u001b[31mcol_character()\u001b[39m\n",
      ")\n",
      "\n",
      "See spec(...) for full column specifications.\n",
      "\n",
      "Using locally cached version of GPL198 found here:\n",
      "/tmp/RtmpJpJjqV/GPL198.soft \n",
      "\n",
      "Warning message:\n",
      "“64 parsing failures.\n",
      "  row     col           expected    actual         file\n",
      "22747 SPOT_ID 1/0/T/F/TRUE/FALSE --Control literal data\n",
      "22748 SPOT_ID 1/0/T/F/TRUE/FALSE --Control literal data\n",
      "22749 SPOT_ID 1/0/T/F/TRUE/FALSE --Control literal data\n",
      "22750 SPOT_ID 1/0/T/F/TRUE/FALSE --Control literal data\n",
      "22751 SPOT_ID 1/0/T/F/TRUE/FALSE --Control literal data\n",
      "..... ....... .................. ......... ............\n",
      "See problems(...) for more details.\n",
      "”\n"
     ]
    },
    {
     "name": "stdout",
     "output_type": "stream",
     "text": [
      "[1] \"log2 transform finished\"\n"
     ]
    }
   ],
   "source": [
    "############################################ Annotation file ########################################################################\n",
    "gpl <- getGEO('GPL198')\n",
    "tgpl <- Table(gpl)\n",
    "geneAnno <- tgpl[, c('ID','AGI')] \n",
    "geneAnno <- geneAnno[!(geneAnno$AGI=='' | grepl('ATMG|ATCG|/',geneAnno$AGI)),]\n",
    "############################################ Prepare the dataset ###############################################################\n",
    "#GSE5620:Control, GSE5621:Cold,GSE5622:Osmotisis, GSE5623:Salt, GSE5624:Drought \n",
    "#GSE5625:Genotoxic stress, GSE5626:UV-B stress,GSE5627:Wounding stress, GSE5628:Heat stress\n",
    "stresslist <- paste0('GSE562',seq(0,8))\n",
    "data <- list()\n",
    "for (i in seq(length(stresslist))) data[[i]]=anno_rmDup(getgeo(stresslist[i])) # extract data to the list\n",
    "\n",
    "# extract data except 0h, 0.25h and 4.0h and whole data for heat stress, and the excluded data will be analysized following \n",
    "data2 <- list()\n",
    "for (i in seq(length(data)-1)) data2[[i]] <- data[[i]][,!grepl('-0h|0.25h|-4.0h',colnames(data[[i]]))] # remove 0h, 0.25h and 4.0h in control dataset\n",
    "# check dataframe columns length\n",
    "# for (k in seq(length(data))) print(length(colnames(data[[k]]))) "
   ]
  },
  {
   "cell_type": "code",
   "execution_count": 4,
   "metadata": {},
   "outputs": [],
   "source": [
    "############################################# Run the program##################################################################\n",
    "count <- 1\n",
    "allDEG <- c()\n",
    "while (count<24){\n",
    "    con <- data2[[1]] %>% mutate(AGI=rownames(.)) %>% dplyr::select(c(count,count+1,'AGI'))\n",
    "    for (num in seq(2,length(data2))){\n",
    "        tre <- data2[[num]] %>% mutate(AGI=rownames(.)) %>% dplyr::select(c(count,count+1,'AGI'))\n",
    "        merdata <- merge(con,tre,by='AGI') %>% remove_rownames %>% column_to_rownames(var=\"AGI\")\n",
    "        allDEG <- c(allDEG,rownames(deg(merdata))) # call deg function\n",
    "        allDEG <- unique(allDEG)\n",
    "    }\n",
    "    count <- count+2\n",
    "}"
   ]
  },
  {
   "cell_type": "code",
   "execution_count": null,
   "metadata": {},
   "outputs": [],
   "source": [
    "for (k in seq(length(data))) print(length(colnames(data[[k]]))) "
   ]
  },
  {
   "cell_type": "code",
   "execution_count": 5,
   "metadata": {},
   "outputs": [],
   "source": [
    "############################################ Extra DEG for drought, UVB, wounding, heatstress###################################\n",
    "# Drought, UVB, wounding for 0.25h\n",
    "extraDEG <- c()\n",
    "control_0.25_shoots <- data[[1]] %>% mutate(AGI=rownames(.)) %>% dplyr::select(c(5,6,'AGI'))\n",
    "control_0.25_roots <- data[[1]] %>% mutate(AGI=rownames(.)) %>% dplyr::select(c(7,8,'AGI'))\n",
    "\n",
    "for (i in c(5,7,8)){\n",
    "    treat1 <- data[[i]] %>% mutate(AGI=rownames(.)) %>% dplyr::select(c(1,2,'AGI'))\n",
    "    treat2 <- data[[i]] %>% mutate(AGI=rownames(.)) %>% dplyr::select(c(3,4,'AGI'))\n",
    "    merdata1 <- merge(control_0.25_shoots,treat1,by='AGI') %>% remove_rownames %>% column_to_rownames(var=\"AGI\")\n",
    "    merdata2 <- merge(control_0.25_roots,treat2,by='AGI') %>% remove_rownames %>% column_to_rownames(var=\"AGI\")\n",
    "    extraDEG <- c(extraDEG,rownames(deg(merdata1))) # call deg function\n",
    "    extraDEG <- c(extraDEG,rownames(deg(merdata2))) # call deg function\n",
    "    extraDEG <- unique(extraDEG)\n",
    "}\n",
    "\n",
    "# heatstress 0.25h, 0.5h 1.0h, 3.0h\n",
    "control_3h <- data[[1]][,seq(5,20)]\n",
    "heat_3h <- data[[9]][,seq(1,16)]\n",
    "count <- 1\n",
    "while (count<16){\n",
    "    con <- control_3h %>% mutate(AGI=rownames(.)) %>% dplyr::select(c(count,count+1,'AGI'))\n",
    "    tre <- heat_3h %>% mutate(AGI=rownames(.)) %>% dplyr::select(c(count,count+1,'AGI'))\n",
    "    merdata <- merge(con,tre,by='AGI') %>% remove_rownames %>% column_to_rownames(var=\"AGI\")\n",
    "    extraDEG <- c(extraDEG,rownames(deg(merdata))) # call deg function\n",
    "    extraDEG <- unique(extraDEG)\n",
    "\n",
    "    count <- count+2\n",
    "}"
   ]
  },
  {
   "cell_type": "code",
   "execution_count": 6,
   "metadata": {},
   "outputs": [
    {
     "name": "stdout",
     "output_type": "stream",
     "text": [
      "[1] 20324\n",
      "[1] 18521\n"
     ]
    }
   ],
   "source": [
    "print(length(allDEG))\n",
    "print(length(extraDEG))"
   ]
  },
  {
   "cell_type": "code",
   "execution_count": 8,
   "metadata": {},
   "outputs": [
    {
     "name": "stdout",
     "output_type": "stream",
     "text": [
      "[1] 20335\n"
     ]
    }
   ],
   "source": [
    "# combine all DEG under all stresses\n",
    "allStressDEG <- unique(c(allDEG,extraDEG))\n",
    "print(length(allStressDEG))"
   ]
  },
  {
   "cell_type": "code",
   "execution_count": 9,
   "metadata": {},
   "outputs": [],
   "source": [
    "# Control genes from PEG timeseries treatment not differentially regulated\n",
    "allnegative <- read.table('allNegativeGeneList.txt')\n",
    "negGeneList_tmp <- allnegative$V1\n",
    "# remove genes in negative gene list while not in DEG \n",
    "negGeneList <- negGeneList_tmp[!negGeneList_tmp %in% allStressDEG]"
   ]
  },
  {
   "cell_type": "code",
   "execution_count": 10,
   "metadata": {},
   "outputs": [
    {
     "data": {
      "text/html": [
       "4210"
      ],
      "text/latex": [
       "4210"
      ],
      "text/markdown": [
       "4210"
      ],
      "text/plain": [
       "[1] 4210"
      ]
     },
     "metadata": {},
     "output_type": "display_data"
    }
   ],
   "source": [
    "length(negGeneList)"
   ]
  },
  {
   "cell_type": "code",
   "execution_count": 20,
   "metadata": {},
   "outputs": [],
   "source": [
    "# export the negative gene list to a txt\n",
    "for (gene in negGeneList){\n",
    "    sink('negativeGeneList_rmStressDEG.txt',append=TRUE)\n",
    "    cat(gene,'\\n')\n",
    "    sink()\n",
    "}"
   ]
  }
 ],
 "metadata": {
  "kernelspec": {
   "display_name": "R",
   "language": "R",
   "name": "ir"
  },
  "language_info": {
   "codemirror_mode": "r",
   "file_extension": ".r",
   "mimetype": "text/x-r-source",
   "name": "R",
   "pygments_lexer": "r",
   "version": "3.6.3"
  }
 },
 "nbformat": 4,
 "nbformat_minor": 4
}
